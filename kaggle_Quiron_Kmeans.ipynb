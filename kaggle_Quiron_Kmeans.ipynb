{
 "metadata": {
  "language_info": {
   "codemirror_mode": {
    "name": "ipython",
    "version": 3
   },
   "file_extension": ".py",
   "mimetype": "text/x-python",
   "name": "python",
   "nbconvert_exporter": "python",
   "pygments_lexer": "ipython3",
   "version": "3.7.4"
  },
  "orig_nbformat": 4,
  "kernelspec": {
   "name": "python3",
   "display_name": "Python 3.7.4 64-bit"
  },
  "interpreter": {
   "hash": "93959734c7fb7f2dc7760fccbd71d0356ba421f29bb59ffa607c9608db7abb2a"
  }
 },
 "nbformat": 4,
 "nbformat_minor": 2,
 "cells": [
  {
   "cell_type": "code",
   "execution_count": 1,
   "metadata": {},
   "outputs": [],
   "source": [
    "import numpy as np\n",
    "import pandas as pd\n",
    "\n",
    "import urllib.request\n",
    "from PIL import Image\n",
    "\n",
    "from sklearn.model_selection import train_test_split\n",
    "from sklearn.metrics import mean_squared_error"
   ]
  },
  {
   "cell_type": "code",
   "execution_count": 2,
   "metadata": {},
   "outputs": [],
   "source": [
    "from sklearn.preprocessing import OrdinalEncoder\n",
    "from sklearn.ensemble import RandomForestClassifier     # obtiene un score (test/pred/submin): 0.3455/0.2211/0.23092\n",
    "from sklearn.linear_model import LogisticRegression     # obtiene un score (test/pred/submin): 0.277/0.2717/0.27284 ## \n",
    "from sklearn.svm import SVC                             # obtiene un score (test/pred/submin): 0.277/0.2717/0.27284 ##  de momento es el mejor modelo con 0'27\n",
    "from catboost import CatBoostClassifier                 # obtiene un score (test/pred/submin): 0.3623/0.2230/0.23423\n",
    "from sklearn.ensemble import GradientBoostingClassifier # obtiene un score (test/pred/submin): 0.3661/0.222/\n",
    "from sklearn.model_selection import GridSearchCV\n",
    "from sklearn.ensemble import VotingClassifier\n",
    "from sklearn.model_selection import RepeatedStratifiedKFold, RepeatedKFold # RepeatedStratifiedKFold sólo se utiliza para categorías \n",
    "from sklearn.cluster import KMeans"
   ]
  },
  {
   "cell_type": "code",
   "execution_count": 3,
   "metadata": {},
   "outputs": [],
   "source": [
    "# limpieza del dataframe original y codificación de los datos\n",
    "# definición de las funciones de codificación\n",
    "def col12_toInt (strin):\n",
    "    if strin == 'Urgent':\n",
    "        return 100\n",
    "    elif strin == 'Trauma':\n",
    "        return 10\n",
    "    elif strin == 'Emergency':\n",
    "        return 1\n",
    "\n",
    "def col13_toInt (strin):\n",
    "    if strin == 'Extreme':\n",
    "        return 100\n",
    "    elif strin == 'Moderate':\n",
    "        return 10\n",
    "    elif strin == 'Minor':\n",
    "        return 1\n",
    "        \n",
    "def col2_toInt (strin):\n",
    "    if strin == 'a':\n",
    "        return 44130\n",
    "    elif strin == 'b':\n",
    "        return 21667\n",
    "    elif strin == 'c':\n",
    "        return 14145\n",
    "    elif strin == 'd':\n",
    "        return 6341\n",
    "    elif strin == 'e':\n",
    "        return 7678\n",
    "    elif strin == 'f':\n",
    "        return 3237\n",
    "    elif strin == 'g':\n",
    "        return 1286\n",
    "\n",
    "def codi_df (df):\n",
    "    df['2'] = df['2'].apply(lambda x: col2_toInt(x))\n",
    "    df['12'] = df['12'].apply(lambda x: col12_toInt(x))\n",
    "    df['13'] = df['13'].apply(lambda x: col13_toInt(x))\n",
    "    df['15'] = df['15'].apply(lambda x: int(x.replace('-', '')))\n",
    "    return df "
   ]
  },
  {
   "cell_type": "code",
   "execution_count": 4,
   "metadata": {},
   "outputs": [],
   "source": [
    "# Carga de los datos\n",
    "# carga de los datos de train y test\n",
    "df_cols = pd.read_csv('columns_meaning.csv')\n",
    "df_hospital_train = pd.read_csv(\"hospital_train.csv\")\n",
    "\n",
    "# Carga de los datos de entrega\n",
    "df_hospital_test = pd.read_csv(\"hospital_test.csv\")\n",
    "sample = pd.read_csv(\"sample_submission.csv\")"
   ]
  },
  {
   "cell_type": "code",
   "execution_count": 5,
   "metadata": {},
   "outputs": [
    {
     "output_type": "stream",
     "name": "stderr",
     "text": [
      "ipykernel_launcher:36: SettingWithCopyWarning: \n",
      "A value is trying to be set on a copy of a slice from a DataFrame.\n",
      "Try using .loc[row_indexer,col_indexer] = value instead\n",
      "\n",
      "See the caveats in the documentation: https://pandas.pydata.org/pandas-docs/stable/user_guide/indexing.html#returning-a-view-versus-a-copy\n",
      "ipykernel_launcher:37: SettingWithCopyWarning: \n",
      "A value is trying to be set on a copy of a slice from a DataFrame.\n",
      "Try using .loc[row_indexer,col_indexer] = value instead\n",
      "\n",
      "See the caveats in the documentation: https://pandas.pydata.org/pandas-docs/stable/user_guide/indexing.html#returning-a-view-versus-a-copy\n",
      "ipykernel_launcher:38: SettingWithCopyWarning: \n",
      "A value is trying to be set on a copy of a slice from a DataFrame.\n",
      "Try using .loc[row_indexer,col_indexer] = value instead\n",
      "\n",
      "See the caveats in the documentation: https://pandas.pydata.org/pandas-docs/stable/user_guide/indexing.html#returning-a-view-versus-a-copy\n",
      "ipykernel_launcher:39: SettingWithCopyWarning: \n",
      "A value is trying to be set on a copy of a slice from a DataFrame.\n",
      "Try using .loc[row_indexer,col_indexer] = value instead\n",
      "\n",
      "See the caveats in the documentation: https://pandas.pydata.org/pandas-docs/stable/user_guide/indexing.html#returning-a-view-versus-a-copy\n",
      "C:\\Users\\barke\\AppData\\Local\\Programs\\Python\\Python37\\lib\\site-packages\\pandas\\core\\series.py:4469: SettingWithCopyWarning: \n",
      "A value is trying to be set on a copy of a slice from a DataFrame\n",
      "\n",
      "See the caveats in the documentation: https://pandas.pydata.org/pandas-docs/stable/user_guide/indexing.html#returning-a-view-versus-a-copy\n",
      "  downcast=downcast,\n"
     ]
    }
   ],
   "source": [
    "# transformación de los dataframes\n",
    "# DataFrame de Train y Test\n",
    "df_hospital_train = df_hospital_train.dropna()      # eliminación de las líneas con Nan\n",
    "encod_df_hospital_train = df_hospital_train[['2','9','11','12','13','14','15','16']]    # selección de las columnas de train y test\n",
    "encod_df_hospital_train = codi_df (encod_df_hospital_train)         # codificación de los valores categóricos    \n",
    "\n",
    "# DataFrame de Entrega\n",
    "encod_df_hospital_test = df_hospital_test[['2','9','11','12','13','14','15','16']]  # selección de las columnas\n",
    "encod_df_hospital_test = codi_df(encod_df_hospital_test)    # ejecucción de la función de codificación\n",
    "\n",
    "# sustitución de los valores nan por valores reales (lo ideal sería hacerlo de forma automática)\n",
    "encod_df_hospital_test['11'].fillna(8, inplace= True) # 8 es el valor que más se repite tanto en el conjunto de train como en el predicción\n",
    "encod_df_hospital_test['9'].fillna(2, inplace= True) # 2 es el valor que más se repite tanto en el conjunto de train como en el predicción\n",
    "\n",
    "     \n",
    "# conversión de los dataframes a arrays\n",
    "# generación de los conjuntos de train y test\n",
    "X = np.array(encod_df_hospital_train)\n",
    "y = np.array(df_hospital_train['17'])\n",
    "X_train, X_test, y_train, y_test = train_test_split(X, y, shuffle= True, test_size = 0.50, random_state = 42)\n",
    "\n",
    "# se convierten los datos a vectores\n",
    "X_pred = np.array(encod_df_hospital_test)\n",
    "y_sample = sample['days']  "
   ]
  },
  {
   "cell_type": "code",
   "execution_count": 7,
   "metadata": {},
   "outputs": [],
   "source": [
    "\n",
    "voting = KMeans(n_clusters=11, random_state=42).fit(X_train)\n"
   ]
  },
  {
   "cell_type": "code",
   "execution_count": 8,
   "metadata": {},
   "outputs": [
    {
     "output_type": "execute_result",
     "data": {
      "text/plain": [
       "array([3, 0, 0, ..., 7, 5, 0])"
      ]
     },
     "metadata": {},
     "execution_count": 8
    }
   ],
   "source": [
    "# 5. Predecir con el modelo ya entrenado con X_test\n",
    "predictions = voting.predict(X_test)\n",
    "predictions"
   ]
  },
  {
   "cell_type": "code",
   "execution_count": 9,
   "metadata": {},
   "outputs": [
    {
     "output_type": "execute_result",
     "data": {
      "text/plain": [
       "array(['31-40', '21-30', '21-30', ..., '21-30', '21-30', '21-30'],\n",
       "      dtype=object)"
      ]
     },
     "metadata": {},
     "execution_count": 9
    }
   ],
   "source": [
    "y_test"
   ]
  },
  {
   "cell_type": "code",
   "execution_count": 98,
   "metadata": {},
   "outputs": [
    {
     "output_type": "execute_result",
     "data": {
      "text/plain": [
       "0.3691767190609642"
      ]
     },
     "metadata": {},
     "execution_count": 98
    }
   ],
   "source": [
    "voting.score(X_test, y_test)"
   ]
  },
  {
   "cell_type": "code",
   "execution_count": 99,
   "metadata": {},
   "outputs": [
    {
     "output_type": "execute_result",
     "data": {
      "text/plain": [
       "0.22383807871754996"
      ]
     },
     "metadata": {},
     "execution_count": 99
    }
   ],
   "source": [
    "# se ejecutan las predicciones con el modelo entrenado\n",
    "predictions_submit = voting.predict(X_pred)\n",
    "submission = pd.DataFrame({\"id\": df_hospital_test['0'], \"days\": predictions_submit})\n",
    "voting.score(X_pred, y_sample)"
   ]
  },
  {
   "cell_type": "code",
   "execution_count": 156,
   "metadata": {},
   "outputs": [
    {
     "output_type": "stream",
     "name": "stdout",
     "text": [
      "You're ready to submit!\n"
     ]
    }
   ],
   "source": [
    "def chequeator(df_to_submit):\n",
    "    \"\"\"\n",
    "    Esta función se asegura de que tu submission tenga la forma requerida por Kaggle.\n",
    "    \n",
    "    Si es así, se guardará el dataframe en un `csv` y estará listo para subir a Kaggle.\n",
    "    \n",
    "    Si no, LEE EL MENSAJE Y HAZLE CASO.\n",
    "    \n",
    "    Si aún no:\n",
    "    - apaga tu ordenador, \n",
    "    - date una vuelta, \n",
    "    - enciendelo otra vez, \n",
    "    - abre este notebook y \n",
    "    - leelo todo de nuevo. \n",
    "    Todos nos merecemos una segunda oportunidad. También tú.\n",
    "    \"\"\"\n",
    "    if df_to_submit.shape == sample.shape:\n",
    "        if df_to_submit.columns.all() == sample.columns.all():\n",
    "            if df_to_submit.id.all() == sample.id.all():\n",
    "                print(\"You're ready to submit!\")\n",
    "                submission.to_csv(\"submission.csv\", index = False) #muy importante el index = False\n",
    "                urllib.request.urlretrieve(\"https://i.kym-cdn.com/photos/images/facebook/000/747/556/27a.jpg\", \"gfg.png\")     \n",
    "                img = Image.open(\"gfg.png\")\n",
    "                img.show()   \n",
    "            else:\n",
    "                print(\"Check the ids and try again\")\n",
    "        else:\n",
    "            print(\"Check the names of the columns and try again\")\n",
    "    else:\n",
    "        print(\"Check the number of rows and/or columns and try again\")\n",
    "        print(\"\\nMensaje secreto de Clara: No me puedo creer que después de todo este notebook hayas hecho algún cambio en las filas de `diamonds_test.csv`. Lloro.\")\n",
    "chequeator(submission)"
   ]
  },
  {
   "cell_type": "code",
   "execution_count": null,
   "metadata": {},
   "outputs": [],
   "source": []
  }
 ]
}